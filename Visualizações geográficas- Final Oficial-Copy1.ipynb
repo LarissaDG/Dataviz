{
 "cells": [
  {
   "cell_type": "markdown",
   "metadata": {},
   "source": [
    "# Bibliotecas Usadas"
   ]
  },
  {
   "cell_type": "code",
   "execution_count": null,
   "metadata": {},
   "outputs": [],
   "source": [
    "import csv\n",
    "import sqlite3\n",
    "import numpy as np\n",
    "import statistics\n",
    "import chart_studio\n",
    "import pandas as pd\n",
    "import datapane as dp\n",
    "import plotly.offline as py\n",
    "import plotly.express  as  px\n",
    "import plotly.graph_objs as go\n",
    "import chart_studio.plotly as cs\n",
    "import chart_studio.tools as tls\n",
    "import plotly.figure_factory as ff\n",
    "\n",
    "from datetime import date\n",
    "from plotly.subplots import make_subplots"
   ]
  },
  {
   "cell_type": "markdown",
   "metadata": {},
   "source": [
    "# Tratamento dos dados"
   ]
  },
  {
   "cell_type": "code",
   "execution_count": null,
   "metadata": {},
   "outputs": [],
   "source": [
    "df = pd.read_csv(r'C:\\Users\\lalad\\Documents\\Escola\\UFMG\\6ºperiodo\\Visulização de dados\\TP\\Station.csv', sep = ';', header = 'infer',encoding='utf-8',low_memory=False)\n",
    "#df"
   ]
  },
  {
   "cell_type": "code",
   "execution_count": null,
   "metadata": {},
   "outputs": [],
   "source": [
    "df1 = pd.read_csv(r'C:\\Users\\lalad\\Documents\\Escola\\UFMG\\6ºperiodo\\Visulização de dados\\TP\\Database\\datasets_63234_122771_df_stations.csv', sep = ',', header = 'infer',encoding='utf-8',low_memory=False)\n",
    "#df1"
   ]
  },
  {
   "cell_type": "code",
   "execution_count": null,
   "metadata": {},
   "outputs": [],
   "source": [
    "df2 = pd.read_csv(r'C:\\Users\\lalad\\Documents\\Escola\\UFMG\\6ºperiodo\\Visulização de dados\\TP\\data3.csv', sep = ';', header = 'infer',encoding='utf-8',low_memory=False)\n",
    "#df2"
   ]
  },
  {
   "cell_type": "markdown",
   "metadata": {},
   "source": [
    "# Cria o banco de dados"
   ]
  },
  {
   "cell_type": "code",
   "execution_count": null,
   "metadata": {},
   "outputs": [],
   "source": [
    "#Cria o banco bike\n",
    "conn = sqlite3.connect('bike.db')\n",
    "cursor = conn.cursor()\n",
    "\n",
    "#Coloca a tabela tab no banco\n",
    "Table1 = df\n",
    "Table1.to_sql('usadas',conn,if_exists = 'fail',index = False)\n",
    "conn.close()"
   ]
  },
  {
   "cell_type": "code",
   "execution_count": null,
   "metadata": {},
   "outputs": [],
   "source": [
    "#Cria o banco bike\n",
    "conn = sqlite3.connect('bike.db')\n",
    "cursor = conn.cursor()\n",
    "\n",
    "#Coloca a tabela tab no banco\n",
    "Table1 = df1\n",
    "Table1.to_sql('station',conn,if_exists = 'fail',index = False)\n",
    "conn.close()"
   ]
  },
  {
   "cell_type": "code",
   "execution_count": null,
   "metadata": {},
   "outputs": [],
   "source": [
    "#Cria o banco bike\n",
    "conn = sqlite3.connect('bike.db')\n",
    "cursor = conn.cursor()\n",
    "\n",
    "#Coloca a tabela tab no banco\n",
    "Table1 = df2\n",
    "Table1.to_sql('tab',conn,if_exists = 'fail',index = False)\n",
    "conn.close()"
   ]
  },
  {
   "cell_type": "markdown",
   "metadata": {},
   "source": [
    "# Visualizações"
   ]
  },
  {
   "cell_type": "markdown",
   "metadata": {},
   "source": [
    "<h3> Questões geográficas"
   ]
  },
  {
   "cell_type": "markdown",
   "metadata": {},
   "source": [
    "<p>1) Onde as estações estão localizadas?"
   ]
  },
  {
   "cell_type": "markdown",
   "metadata": {},
   "source": [
    "<p> 2) Quais as estações mais usadas? Para pegar a bicicleta emprestada e devolve-la respectivamente."
   ]
  },
  {
   "cell_type": "code",
   "execution_count": null,
   "metadata": {},
   "outputs": [],
   "source": [
    "conn = sqlite3.connect('bike.db')\n",
    "cursor = conn.cursor()\n",
    "\n",
    "sql = \"\"\"select id_station_start, name_station_start, count(name_station_start)\n",
    "from tab\n",
    "group by name_station_start\n",
    "having count(name_station_start) > 11000\n",
    "order by count(name_station_start)\n",
    "\"\"\"\n",
    "\n",
    "cursor = conn.execute(sql)\n",
    "rows = cursor.fetchall()\n",
    "conn.close()\n",
    "#rows\n",
    "#Criando um dataframe com pandas\n",
    "\n",
    "identificador = []\n",
    "nome = []\n",
    "count = []\n",
    "\n",
    "for element in rows:\n",
    "  identificador.append(element[0])\n",
    "  nome.append(element[1])\n",
    "  count.append(element[2])\n",
    "\n",
    "dic = {\n",
    "    'id': identificador,\n",
    "    'Nome':nome,\n",
    "    'Count': count,\n",
    "}\n",
    "#dic\n",
    "#Visualização do Data Frame\n",
    "dataframe1 = pd.DataFrame(dic)\n",
    "#dataframe1"
   ]
  },
  {
   "cell_type": "code",
   "execution_count": null,
   "metadata": {},
   "outputs": [],
   "source": [
    "conn = sqlite3.connect('bike.db')\n",
    "cursor = conn.cursor()\n",
    "\n",
    "sql = \"\"\"select id_station_end, name_station_end, count(name_station_end)\n",
    "from tab\n",
    "group by name_station_end\n",
    "having count(name_station_end) > 11000\n",
    "order by count(name_station_end)\n",
    "\"\"\"\n",
    "cursor = conn.execute(sql)\n",
    "rows = cursor.fetchall()\n",
    "conn.close()\n",
    "#rows\n",
    "#Criando um dataframe com pandas\n",
    "\n",
    "identificador = []\n",
    "nome = []\n",
    "count = []\n",
    "\n",
    "for element in rows:\n",
    "  identificador.append(element[0])\n",
    "  nome.append(element[1])\n",
    "  count.append(element[2])\n",
    "\n",
    "dic = {\n",
    "    'id': identificador,\n",
    "    'Nome':nome,\n",
    "    'Count': count,\n",
    "}\n",
    "#dic\n",
    "#Visualização do Data Frame\n",
    "dataframe2 = pd.DataFrame(dic)\n",
    "#ataframe2.shape"
   ]
  },
  {
   "cell_type": "code",
   "execution_count": null,
   "metadata": {},
   "outputs": [],
   "source": [
    "fig = make_subplots(rows=2, cols=1)\n",
    "\n",
    "fig.add_trace(\n",
    "    go.Bar(x = dataframe1['Count'] ,  y = dataframe1['Nome'], marker_color='#02732A', name = 'Principais estações de início', orientation='h'),\n",
    "        row=1, col=1\n",
    ")\n",
    "\n",
    "fig.add_trace(\n",
    "    go.Bar(x = dataframe2['Count'] ,  y = dataframe2['Nome'], marker_color='#F2CB05', name = 'Principais estações de fim', orientation='h'),\n",
    "    row=2, col=1\n",
    ")\n",
    "\n",
    "\n",
    "fig.update_layout(height=500, width=1000,title_text='Ranking: estações mais usadas')\n",
    "fig.update_xaxes(matches='x')\n",
    "fig.show()"
   ]
  },
  {
   "cell_type": "code",
   "execution_count": null,
   "metadata": {},
   "outputs": [],
   "source": [
    "conn = sqlite3.connect('bike.db')\n",
    "cursor = conn.cursor()\n",
    "\n",
    "sql = \"\"\"select station_number, station_name, lat, lon\n",
    "from station  \n",
    "\"\"\"\n",
    "cursor = conn.execute(sql)\n",
    "rows = cursor.fetchall()\n",
    "conn.close()\n",
    "#rows"
   ]
  },
  {
   "cell_type": "code",
   "execution_count": null,
   "metadata": {},
   "outputs": [],
   "source": [
    "#Criando um dataframe com pandas\n",
    "\n",
    "Id = []\n",
    "nome = []\n",
    "latitude= []\n",
    "longitude = []\n",
    "\n",
    "for element in rows:\n",
    "  Id.append(element[0])\n",
    "  nome.append(element[1])\n",
    "  latitude.append(element[2])\n",
    "  longitude.append(element[3])\n",
    "\n",
    "dic = {\n",
    "    'id': Id,\n",
    "    'nome':nome,\n",
    "    'latitude': latitude,\n",
    "    'longitude':longitude,\n",
    "}\n",
    "#dic\n",
    "#Visualização do Data Frame\n",
    "dataframe = pd.DataFrame(dic)\n",
    "#dataframe.shape"
   ]
  },
  {
   "cell_type": "code",
   "execution_count": null,
   "metadata": {},
   "outputs": [],
   "source": [
    "fig = px.scatter_mapbox(dataframe, lat=\"latitude\", lon=\"longitude\",hover_name=\"nome\",hover_data=[\"id\"],zoom=11, title= 'Estações')\n",
    "fig.update_layout(mapbox_style=\"open-street-map\")\n",
    "fig.show()"
   ]
  },
  {
   "cell_type": "code",
   "execution_count": null,
   "metadata": {},
   "outputs": [],
   "source": [
    "conn = sqlite3.connect('bike.db')\n",
    "cursor = conn.cursor()\n",
    "\n",
    "sql = \"\"\"select *\n",
    "from usadas\n",
    "group by Nome\n",
    "\"\"\"\n",
    "cursor = conn.execute(sql)\n",
    "rows = cursor.fetchall()\n",
    "conn.close()\n",
    "rows"
   ]
  },
  {
   "cell_type": "code",
   "execution_count": null,
   "metadata": {},
   "outputs": [],
   "source": [
    "#Criando um dataframe com pandas\n",
    "\n",
    "Id = []\n",
    "nome = []\n",
    "count = []\n",
    "points = []\n",
    "latitude= []\n",
    "longitude = []\n",
    "\n",
    "for element in rows:\n",
    "  Id.append(element[0])\n",
    "  nome.append(element[1])\n",
    "  count.append(element[2])\n",
    "  points.append(element[3])\n",
    "  latitude.append(element[4])\n",
    "  longitude.append(element[5])\n",
    "\n",
    "dic = {\n",
    "    'id': Id,\n",
    "    'Nome':nome,\n",
    "    'Count': count,\n",
    "    'Points': points,\n",
    "    'lat': latitude,\n",
    "    'lon':longitude,\n",
    "}\n",
    "#dic\n",
    "#Visualização do Data Frame\n",
    "dataframe = pd.DataFrame(dic)\n",
    "#dataframe.shape"
   ]
  },
  {
   "cell_type": "code",
   "execution_count": null,
   "metadata": {},
   "outputs": [],
   "source": [
    "fig = px.density_mapbox(df, lat=\"lat\", lon=\"lon\", z=\"Count\", radius=20,\n",
    "                        center=dict(lat=-15.79462, lon=-47.88172), zoom=11,\n",
    "                        mapbox_style=\"open-street-map\", title= 'Estações mais usadas',hover_name=\"Nome\",hover_data=[\"id\"])\n",
    "fig.show()"
   ]
  },
  {
   "cell_type": "code",
   "execution_count": null,
   "metadata": {},
   "outputs": [],
   "source": [
    "conn = sqlite3.connect('bike.db')\n",
    "cursor = conn.cursor()\n",
    "\n",
    "sql = \"\"\"select id_station_end, name_station_end, count(name_station_end)\n",
    "from tab\n",
    "group by name_station_end\n",
    "order by id_station_end\n",
    "\"\"\"\n",
    "cursor = conn.execute(sql)\n",
    "rows = cursor.fetchall()\n",
    "conn.close()\n",
    "#rows\n",
    "#Criando um dataframe com pandas\n",
    "\n",
    "identificador = []\n",
    "nome = []\n",
    "count = []\n",
    "\n",
    "for element in rows:\n",
    "  identificador.append(element[0])\n",
    "  nome.append(element[1])\n",
    "  count.append(element[2])\n",
    "\n",
    "dic = {\n",
    "    'id': identificador,\n",
    "    'Nome':nome,\n",
    "    'Count': count,\n",
    "}\n",
    "#dic\n",
    "#Visualização do Data Frame\n",
    "dataframe1 = pd.DataFrame(dic)\n",
    "#dataframe1"
   ]
  },
  {
   "cell_type": "code",
   "execution_count": null,
   "metadata": {},
   "outputs": [],
   "source": [
    "conn = sqlite3.connect('bike.db')\n",
    "cursor = conn.cursor()\n",
    "\n",
    "sql = \"\"\"select lat, lon\n",
    "from station\n",
    "order by station_number\n",
    "\"\"\"\n",
    "cursor = conn.execute(sql)\n",
    "rows = cursor.fetchall()\n",
    "conn.close()\n",
    "#rows\n",
    "#Criando um dataframe com pandas\n",
    "\n",
    "lat= []\n",
    "lon= []\n",
    "\n",
    "for element in rows:\n",
    "  lat.append(element[0])\n",
    "  lon.append(element[1])\n",
    "\n",
    "dic = {\n",
    "    'lat':lat,\n",
    "    'lon':lon,\n",
    "}\n",
    "#dic\n",
    "#Visualização do Data Frame\n",
    "dataframe2 = pd.DataFrame(dic)\n",
    "#dataframe2"
   ]
  },
  {
   "cell_type": "code",
   "execution_count": null,
   "metadata": {
    "scrolled": true
   },
   "outputs": [],
   "source": [
    "result = pd.concat([dataframe2,dataframe1], axis=1)"
   ]
  },
  {
   "cell_type": "code",
   "execution_count": null,
   "metadata": {},
   "outputs": [],
   "source": [
    "fig = px.density_mapbox(result, lat=\"lat\", lon=\"lon\", z='Count', radius=20,\n",
    "                        center=dict(lat=-15.79462, lon=-47.88172), zoom=11,\n",
    "                        mapbox_style=\"open-street-map\", title= 'Estações mais usadas para devolver bicicletas')\n",
    "fig.show()"
   ]
  },
  {
   "cell_type": "code",
   "execution_count": null,
   "metadata": {},
   "outputs": [],
   "source": [
    "conn = sqlite3.connect('bike.db')\n",
    "cursor = conn.cursor()\n",
    "\n",
    "sql = \"\"\"select id_station_start, name_station_start, count(name_station_start)\n",
    "from tab\n",
    "group by name_station_start\n",
    "\"\"\"\n",
    "\n",
    "cursor = conn.execute(sql)\n",
    "rows = cursor.fetchall()\n",
    "conn.close()\n",
    "#rows\n",
    "#Criando um dataframe com pandas\n",
    "\n",
    "identificador = []\n",
    "nome = []\n",
    "count = []\n",
    "\n",
    "for element in rows:\n",
    "  identificador.append(element[0])\n",
    "  nome.append(element[1])\n",
    "  count.append(element[2])\n",
    "\n",
    "dic = {\n",
    "    'id': identificador,\n",
    "    'Nome':nome,\n",
    "    'Count': count,\n",
    "}\n",
    "#dic\n",
    "#Visualização do Data Frame\n",
    "dataframe1 = pd.DataFrame(dic)\n",
    "#dataframe1"
   ]
  },
  {
   "cell_type": "code",
   "execution_count": null,
   "metadata": {},
   "outputs": [],
   "source": [
    "conn = sqlite3.connect('bike.db')\n",
    "cursor = conn.cursor()\n",
    "\n",
    "sql = \"\"\"select lat, lon\n",
    "from station\n",
    "order by station_number\n",
    "\"\"\"\n",
    "cursor = conn.execute(sql)\n",
    "rows = cursor.fetchall()\n",
    "conn.close()\n",
    "#rows\n",
    "#Criando um dataframe com pandas\n",
    "\n",
    "lat= []\n",
    "lon= []\n",
    "\n",
    "for element in rows:\n",
    "  lat.append(element[0])\n",
    "  lon.append(element[1])\n",
    "\n",
    "dic = {\n",
    "    'lat':lat,\n",
    "    'lon':lon,\n",
    "}\n",
    "#dic\n",
    "#Visualização do Data Frame\n",
    "dataframe2 = pd.DataFrame(dic)\n",
    "#dataframe2"
   ]
  },
  {
   "cell_type": "code",
   "execution_count": null,
   "metadata": {},
   "outputs": [],
   "source": [
    "result = pd.concat([dataframe2,dataframe1], axis=1)\n",
    "#result"
   ]
  },
  {
   "cell_type": "code",
   "execution_count": null,
   "metadata": {},
   "outputs": [],
   "source": [
    "fig = px.density_mapbox(result, lat=\"lat\", lon=\"lon\", z='Count', radius=20,\n",
    "                        center=dict(lat=-15.79462, lon=-47.88172), zoom=11,\n",
    "                        mapbox_style=\"open-street-map\", title= 'Estações mais usadas pegar bicicletas')\n",
    "fig.show()"
   ]
  }
 ],
 "metadata": {
  "kernelspec": {
   "display_name": "Python 3",
   "language": "python",
   "name": "python3"
  },
  "language_info": {
   "codemirror_mode": {
    "name": "ipython",
    "version": 3
   },
   "file_extension": ".py",
   "mimetype": "text/x-python",
   "name": "python",
   "nbconvert_exporter": "python",
   "pygments_lexer": "ipython3",
   "version": "3.8.3"
  }
 },
 "nbformat": 4,
 "nbformat_minor": 4
}
