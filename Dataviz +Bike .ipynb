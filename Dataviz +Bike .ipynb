{
 "cells": [
  {
   "cell_type": "markdown",
   "metadata": {},
   "source": [
    "# Bibliotecas Usadas"
   ]
  },
  {
   "cell_type": "code",
   "execution_count": null,
   "metadata": {},
   "outputs": [],
   "source": [
    "import csv\n",
    "import sqlite3\n",
    "import numpy as np\n",
    "import pandas as pd\n",
    "import datapane as dp\n",
    "import plotly.offline as py\n",
    "import plotly.express  as  px\n",
    "import plotly.graph_objs as go\n",
    "import chart_studio.tools as tls\n",
    "import plotly.figure_factory as ff\n",
    "\n",
    "from datetime import date\n",
    "from plotly.subplots import make_subplots"
   ]
  },
  {
   "cell_type": "markdown",
   "metadata": {},
   "source": [
    "# Tratamento dos dados"
   ]
  },
  {
   "cell_type": "code",
   "execution_count": null,
   "metadata": {},
   "outputs": [],
   "source": [
    "df = pd.read_csv(r'C:\\Users\\lalad\\Documents\\Escola\\UFMG\\6ºperiodo\\Visulização de dados\\TP\\Database\\df_rides.csv', sep = ',', header = 'infer',encoding='utf-8',low_memory=False)"
   ]
  },
  {
   "cell_type": "code",
   "execution_count": null,
   "metadata": {},
   "outputs": [],
   "source": [
    "def ordena(row):\n",
    "    if row['ride_date'] == 'Monday':\n",
    "        return 1\n",
    "    if row['ride_date'] == 'Tuesday':\n",
    "        return 2\n",
    "    if row['ride_date'] == 'Wednesday':\n",
    "        return 3\n",
    "    if row['ride_date'] == 'Thursday':\n",
    "        return 4\n",
    "    if row['ride_date'] == 'Friday':\n",
    "        return 5\n",
    "    if row['ride_date'] == 'Saturday':\n",
    "        return 6\n",
    "    if row['ride_date'] == 'Sunday':\n",
    "        return 7"
   ]
  },
  {
   "cell_type": "code",
   "execution_count": null,
   "metadata": {},
   "outputs": [],
   "source": [
    "df['ride_date'] = pd.to_datetime(df['ride_date']).dt.strftime('%A')\n",
    "#df['ride_date']"
   ]
  },
  {
   "cell_type": "code",
   "execution_count": null,
   "metadata": {},
   "outputs": [],
   "source": [
    "df['ordem'] = df.apply (lambda row: ordena(row), axis=1)"
   ]
  },
  {
   "cell_type": "code",
   "execution_count": null,
   "metadata": {},
   "outputs": [],
   "source": [
    "now = pd.Timestamp('now')\n",
    "df['user_birthdate'] = pd.to_datetime(df['user_birthdate'], format='%Y-%m-%d')\n",
    "df['user_birthdate'] = df['user_birthdate'].where(df['user_birthdate'] < now, df['user_birthdate'] -  np.timedelta64(100, 'Y'))\n",
    "df['idade'] = (now - df['user_birthdate']).astype('<m8[Y]') \n",
    "#df['idade']"
   ]
  },
  {
   "cell_type": "code",
   "execution_count": null,
   "metadata": {},
   "outputs": [],
   "source": [
    "#current_date = date.today().strftime('%Y-%m-%d')\n",
    "#current_date\n",
    "df['user_birthdate'] = pd.to_datetime(df['user_birthdate'], format='%Y-%m-%d')\n",
    "#df['user_birthdate']\n"
   ]
  },
  {
   "cell_type": "code",
   "execution_count": null,
   "metadata": {},
   "outputs": [],
   "source": [
    "df['id_station_start'] = df['station_start'].str.split('-').str[0].astype(int)\n",
    "#df [\"id_station_start\"]"
   ]
  },
  {
   "cell_type": "code",
   "execution_count": null,
   "metadata": {},
   "outputs": [],
   "source": [
    "df['name_station_start'] = df['station_start'].str.split('-').str[1]\n",
    "#df ['name_station_start']"
   ]
  },
  {
   "cell_type": "code",
   "execution_count": null,
   "metadata": {},
   "outputs": [],
   "source": [
    "df['id_station_end'] = df['station_end'].str.split('-').str[0].astype(int)\n",
    "#df ['id_station_end']"
   ]
  },
  {
   "cell_type": "code",
   "execution_count": null,
   "metadata": {},
   "outputs": [],
   "source": [
    "df['name_station_end'] = df['station_end'].str.split('-').str[1]\n",
    "#df ['name_station_end']"
   ]
  },
  {
   "cell_type": "code",
   "execution_count": null,
   "metadata": {},
   "outputs": [],
   "source": [
    "def classifica(row):\n",
    "    if row['idade'] >= 0 and row['idade']<10:\n",
    "        return 1\n",
    "    if row['idade'] >=10 and row['idade']<20:\n",
    "        return 2\n",
    "    if row['idade'] >=20 and row['idade']<30:\n",
    "        return 3\n",
    "    if row['idade'] >=30 and row['idade']<40:\n",
    "        return 4\n",
    "    if row['idade'] >=40 and row['idade']<50:\n",
    "        return 5\n",
    "    if row['idade'] >=50 and row['idade']<60:\n",
    "        return 6\n",
    "    if row['idade'] >=60 and row['idade']<70:\n",
    "        return 7\n",
    "    if row['idade'] >=70 and row['idade']<80:\n",
    "        return 8\n",
    "    if row['idade'] >=80 and row['idade']<90:\n",
    "        return 9\n",
    "    if row['idade'] >=90 :\n",
    "        return 10"
   ]
  },
  {
   "cell_type": "code",
   "execution_count": null,
   "metadata": {},
   "outputs": [],
   "source": [
    "df['classifica'] = df.apply (lambda row: classifica(row), axis=1)"
   ]
  },
  {
   "cell_type": "code",
   "execution_count": null,
   "metadata": {},
   "outputs": [],
   "source": [
    "def trans(row):\n",
    "    if row['ride_late'] == 0.0:\n",
    "        return '> 1hr'\n",
    "    if row['ride_late'] == 1.0:\n",
    "        return '< ou = 1hr'"
   ]
  },
  {
   "cell_type": "code",
   "execution_count": null,
   "metadata": {},
   "outputs": [],
   "source": [
    "df['new'] = df.apply (lambda row: trans(row), axis=1)"
   ]
  },
  {
   "cell_type": "code",
   "execution_count": null,
   "metadata": {},
   "outputs": [],
   "source": [
    "df"
   ]
  },
  {
   "cell_type": "markdown",
   "metadata": {},
   "source": [
    "# Cria o banco de dados"
   ]
  },
  {
   "cell_type": "code",
   "execution_count": null,
   "metadata": {},
   "outputs": [],
   "source": [
    "#Cria o banco bike\n",
    "conn = sqlite3.connect('bike.db')\n",
    "cursor = conn.cursor()\n",
    "\n",
    "#Coloca a tabela tab no banco\n",
    "Table1 = df\n",
    "Table1.to_sql('tab',conn,if_exists = 'fail',index = False)\n",
    "conn.close()"
   ]
  },
  {
   "cell_type": "markdown",
   "metadata": {},
   "source": [
    "# Visualizações"
   ]
  },
  {
   "cell_type": "markdown",
   "metadata": {},
   "source": [
    "<h3> Questões demográficas "
   ]
  },
  {
   "cell_type": "markdown",
   "metadata": {},
   "source": [
    "<p> 1) Qual a proporção de homens e mulheres que usam o serviço?"
   ]
  },
  {
   "cell_type": "code",
   "execution_count": null,
   "metadata": {},
   "outputs": [],
   "source": [
    "conn = sqlite3.connect('bike.db')\n",
    "cursor = conn.cursor()\n",
    "\n",
    "sql = \"\"\"select user_gender, count(user_gender)\n",
    "from tab\n",
    "where user_gender <> \"None\"\n",
    "group by user_gender\n",
    "\"\"\"\n",
    "\n",
    "cursor = conn.execute(sql)\n",
    "rows = cursor.fetchall()\n",
    "conn.close()\n",
    "#rows"
   ]
  },
  {
   "cell_type": "code",
   "execution_count": null,
   "metadata": {},
   "outputs": [],
   "source": [
    "a = rows[0][1] / (rows[0][1] + rows[1][1]) * 100\n",
    "b = rows[1][1] / (rows[0][1] + rows[1][1]) * 100"
   ]
  },
  {
   "cell_type": "code",
   "execution_count": null,
   "metadata": {},
   "outputs": [],
   "source": [
    "data = [['M',b], ['F', a]] \n",
    "dataframe = pd.DataFrame(data, columns = ['Sexo', 'Porcentagem']) \n",
    "#dataframe"
   ]
  },
  {
   "cell_type": "code",
   "execution_count": null,
   "metadata": {},
   "outputs": [],
   "source": [
    "fig  =  px . bar (dataframe,  x = dataframe['Sexo'] ,  y = dataframe['Porcentagem'], title = 'Parte e todo: sexo', color = dataframe['Sexo'])\n",
    "fig.update_layout(yaxis=dict(range=[0,100]))\n",
    "fig . show ()"
   ]
  },
  {
   "cell_type": "markdown",
   "metadata": {},
   "source": [
    "<p>2) Qual o perfil etário dos usuários"
   ]
  },
  {
   "cell_type": "code",
   "execution_count": null,
   "metadata": {},
   "outputs": [],
   "source": [
    "conn = sqlite3.connect('bike.db')\n",
    "cursor = conn.cursor()\n",
    "\n",
    "sql = \"\"\"select count(user_gender)\n",
    "from tab\n",
    "where user_gender = 'M'\n",
    "group by classifica\n",
    "\"\"\"\n",
    "\n",
    "cursor = conn.execute(sql)\n",
    "rows = cursor.fetchall()\n",
    "conn.close()\n",
    "#rows"
   ]
  },
  {
   "cell_type": "code",
   "execution_count": null,
   "metadata": {},
   "outputs": [],
   "source": [
    "men_bins = np.array(rows)\n",
    "men_bins = men_bins.reshape(10,)"
   ]
  },
  {
   "cell_type": "code",
   "execution_count": null,
   "metadata": {},
   "outputs": [],
   "source": [
    "conn = sqlite3.connect('bike.db')\n",
    "cursor = conn.cursor()\n",
    "\n",
    "\n",
    "sql = \"\"\"select count(user_gender)\n",
    "from tab\n",
    "where user_gender = 'F' and idade <> \"None\"\n",
    "group by classifica\n",
    "\"\"\"\n",
    "cursor = conn.execute(sql)\n",
    "rows = cursor.fetchall()\n",
    "conn.close()\n",
    "#rows"
   ]
  },
  {
   "cell_type": "code",
   "execution_count": null,
   "metadata": {},
   "outputs": [],
   "source": [
    "women_bins = np.array(rows)\n",
    "women_bins = women_bins *(-1)\n",
    "women_bins = women_bins.reshape(10,)"
   ]
  },
  {
   "cell_type": "code",
   "execution_count": null,
   "metadata": {},
   "outputs": [],
   "source": [
    "\n",
    "y = list(range(0, 100, 10))\n",
    "\n",
    "layout = go.Layout(yaxis=go.layout.YAxis(title='Idade'),\n",
    "                   xaxis=go.layout.XAxis(\n",
    "                       range=[-120000, 120000],\n",
    "                       tickvals=[-100000, -50000,-10000, 0,10000, 50000, 100000],\n",
    "                       ticktext=[100000, 50000,10000, 0,10000, 50000, 100000],\n",
    "                       title='Quantidade de pessoas'),\n",
    "                   barmode='overlay',\n",
    "                   bargap=0.1,\n",
    "                   title=go.layout.Title(text='Pirâmide etária dos usuários'))\n",
    "\n",
    "data = [go.Bar(y=y,\n",
    "               x=men_bins,\n",
    "               orientation='h',\n",
    "               name='Homem',\n",
    "               hoverinfo='x',\n",
    "               marker=dict(color='blue')\n",
    "               ),\n",
    "        go.Bar(y=y,\n",
    "               x=women_bins,\n",
    "               orientation='h',\n",
    "               name='Mulher',\n",
    "               text=-1 * women_bins.astype('int'),\n",
    "               hoverinfo='text',\n",
    "               marker=dict(color='red')\n",
    "               )]\n",
    "\n",
    "py.iplot(dict(data=data, layout=layout), filename='EXAMPLES/bar_pyramid')"
   ]
  },
  {
   "cell_type": "markdown",
   "metadata": {},
   "source": [
    "<p>3) Qual a distribuição de idade por sexo? "
   ]
  },
  {
   "cell_type": "code",
   "execution_count": null,
   "metadata": {},
   "outputs": [],
   "source": [
    "conn = sqlite3.connect('bike.db')\n",
    "cursor = conn.cursor()\n",
    "\n",
    "sql = \"\"\"select user_gender, idade\n",
    "from tab\n",
    "where user_gender <> \"None\"\n",
    "\"\"\"\n",
    "\n",
    "cursor = conn.execute(sql)\n",
    "rows = cursor.fetchall()\n",
    "conn.close()\n",
    "#rows"
   ]
  },
  {
   "cell_type": "code",
   "execution_count": null,
   "metadata": {},
   "outputs": [],
   "source": [
    "#Criando um dataframe com pandas\n",
    "\n",
    "sexo = []\n",
    "idade = []\n",
    "\n",
    "for element in rows:\n",
    "  sexo.append(element[0])\n",
    "  idade.append(element[1])\n",
    "\n",
    "dic = {\n",
    "    'Sexo': sexo,\n",
    "    'Idade': idade,\n",
    "    \n",
    "}\n",
    "#dic\n",
    "#Visualização do Data Frame\n",
    "dataframe = pd.DataFrame(dic)\n",
    "#dataframe"
   ]
  },
  {
   "cell_type": "code",
   "execution_count": null,
   "metadata": {},
   "outputs": [],
   "source": [
    "fig = px.box( x = dataframe['Sexo'], y = dataframe['Idade'], color= dataframe['Sexo'],title = 'Distribuição de sexo por idade')\n",
    "fig.show()"
   ]
  },
  {
   "cell_type": "code",
   "execution_count": null,
   "metadata": {},
   "outputs": [],
   "source": [
    "fig.update_layout(xaxis_title='Sexo',yaxis_title=\"Idade\")"
   ]
  },
  {
   "cell_type": "markdown",
   "metadata": {},
   "source": [
    "<h3>Questões perfil de consumo"
   ]
  },
  {
   "cell_type": "markdown",
   "metadata": {},
   "source": [
    "<p>1) Quais os padrões observados entre a idade e o dia da semana?"
   ]
  },
  {
   "cell_type": "code",
   "execution_count": null,
   "metadata": {},
   "outputs": [],
   "source": [
    "conn = sqlite3.connect('bike.db')\n",
    "cursor = conn.cursor()\n",
    "\n",
    "sql = \"\"\"select idade, ride_date\n",
    "from tab\n",
    "where idade between 0 and 17\n",
    "order by ordem \n",
    "\"\"\"\n",
    "\n",
    "cursor = conn.execute(sql)\n",
    "rows = cursor.fetchall()\n",
    "conn.close()\n",
    "#rows"
   ]
  },
  {
   "cell_type": "code",
   "execution_count": null,
   "metadata": {},
   "outputs": [],
   "source": [
    "#Criando um dataframe com pandas\n",
    "\n",
    "idade = []\n",
    "dia = []\n",
    "\n",
    "for element in rows:\n",
    "  idade.append(element[0])\n",
    "  dia.append(element[1])\n",
    "\n",
    "dic = {\n",
    "    'Idade': idade,\n",
    "    'Week day': dia,\n",
    "    \n",
    "}\n",
    "#dic\n",
    "#Visualização do Data Frame\n",
    "dataframe1 = pd.DataFrame(dic)\n",
    "#dataframe"
   ]
  },
  {
   "cell_type": "code",
   "execution_count": null,
   "metadata": {
    "scrolled": false
   },
   "outputs": [],
   "source": [
    "fig = px.box( x = dataframe1['Idade'], y = dataframe1['Week day'], color_discrete_sequence=['#6100A3'],title = 'Distribuição idade por dia da semana')\n",
    "#fig.show()"
   ]
  },
  {
   "cell_type": "code",
   "execution_count": null,
   "metadata": {},
   "outputs": [],
   "source": [
    "#A consulta SQL deve ser ordenada de forma decrescente. Alrerar a consulta acima e as próximas\n",
    "#fig.update_layout(xaxis_title='Idade',yaxis_title=\"Dia da semana\")"
   ]
  },
  {
   "cell_type": "code",
   "execution_count": null,
   "metadata": {},
   "outputs": [],
   "source": [
    "conn = sqlite3.connect('bike.db')\n",
    "cursor = conn.cursor()\n",
    "\n",
    "sql = \"\"\"select idade, ride_date\n",
    "from tab\n",
    "where idade between 18 and 59 \n",
    "order by ordem \n",
    "\"\"\"\n",
    "\n",
    "cursor = conn.execute(sql)\n",
    "rows = cursor.fetchall()\n",
    "conn.close()\n",
    "#rows"
   ]
  },
  {
   "cell_type": "code",
   "execution_count": null,
   "metadata": {},
   "outputs": [],
   "source": [
    "#Criando um dataframe com pandas\n",
    "\n",
    "idade = []\n",
    "dia = []\n",
    "\n",
    "for element in rows:\n",
    "  idade.append(element[0])\n",
    "  dia.append(element[1])\n",
    "\n",
    "dic = {\n",
    "    'Idade': idade,\n",
    "    'Week day': dia,\n",
    "    \n",
    "}\n",
    "#dic\n",
    "#Visualização do Data Frame\n",
    "dataframe2 = pd.DataFrame(dic)\n",
    "#dataframe"
   ]
  },
  {
   "cell_type": "code",
   "execution_count": null,
   "metadata": {
    "scrolled": true
   },
   "outputs": [],
   "source": [
    "fig = px.box( x = dataframe2['Idade'], y = dataframe2['Week day'], color_discrete_sequence=['#6100A3'])\n",
    "#fig.show()"
   ]
  },
  {
   "cell_type": "code",
   "execution_count": null,
   "metadata": {},
   "outputs": [],
   "source": [
    "#fig.update_layout(xaxis_title='Idade',yaxis_title=\"Dia da semana\")"
   ]
  },
  {
   "cell_type": "code",
   "execution_count": null,
   "metadata": {},
   "outputs": [],
   "source": [
    "conn = sqlite3.connect('bike.db')\n",
    "cursor = conn.cursor()\n",
    "\n",
    "sql = \"\"\"select idade, ride_date\n",
    "from tab\n",
    "where idade >= 60\n",
    "order by ordem\n",
    "\"\"\"\n",
    "\n",
    "cursor = conn.execute(sql)\n",
    "rows = cursor.fetchall()\n",
    "conn.close()\n",
    "#rows"
   ]
  },
  {
   "cell_type": "code",
   "execution_count": null,
   "metadata": {},
   "outputs": [],
   "source": [
    "#Criando um dataframe com pandas\n",
    "\n",
    "idade = []\n",
    "dia = []\n",
    "\n",
    "for element in rows:\n",
    "  idade.append(element[0])\n",
    "  dia.append(element[1])\n",
    "\n",
    "dic = {\n",
    "    'Idade': idade,\n",
    "    'Week day': dia,\n",
    "    \n",
    "}\n",
    "#dic\n",
    "#Visualização do Data Frame\n",
    "dataframe3 = pd.DataFrame(dic)\n",
    "#dataframe"
   ]
  },
  {
   "cell_type": "code",
   "execution_count": null,
   "metadata": {
    "scrolled": true
   },
   "outputs": [],
   "source": [
    "fig = px.box( x = dataframe3['Idade'], y = dataframe3['Week day'],color_discrete_sequence=['#6100A3'])\n",
    "#fig.show()"
   ]
  },
  {
   "cell_type": "code",
   "execution_count": null,
   "metadata": {},
   "outputs": [],
   "source": [
    "#fig.update_layout(xaxis_title='Idade',yaxis_title=\"Dia da semana\")"
   ]
  },
  {
   "cell_type": "code",
   "execution_count": null,
   "metadata": {},
   "outputs": [],
   "source": [
    "fig = make_subplots(rows=1, cols=3)\n",
    "\n",
    "fig.add_trace(\n",
    "    go.Box( x = dataframe1['Week day'], y = dataframe1['Idade'], marker_color='#B00983', name = 'Pessoas entre 0 e 17 anos'),\n",
    "    row=1, col=1\n",
    ")\n",
    "\n",
    "fig.add_trace(\n",
    "    go.Box( x = dataframe2['Week day'], y = dataframe2['Idade'], marker_color='#4309BA' ,name = 'Pessoas entre 18 e 59 anos'),\n",
    "    row=1, col=2\n",
    ")\n",
    "\n",
    "fig.add_trace(\n",
    "    go.Box(x = dataframe3['Week day'], y = dataframe3['Idade'],marker_color='#6100A3', name = 'Pessoas com 60 ou mais'),\n",
    "    row=1, col=3\n",
    ")\n",
    "\n",
    "fig.update_layout(height=500, width=1000, title_text='Distribuição idade por dia da semana')\n",
    "fig.show()"
   ]
  },
  {
   "cell_type": "markdown",
   "metadata": {},
   "source": [
    "<p> 2) Quais os padrões observados entre o sexo da pessoa e o dia da semana?"
   ]
  },
  {
   "cell_type": "markdown",
   "metadata": {},
   "source": [
    "<p> Vide Power BI"
   ]
  },
  {
   "cell_type": "code",
   "execution_count": null,
   "metadata": {},
   "outputs": [],
   "source": [
    "conn = sqlite3.connect('bike.db')\n",
    "cursor = conn.cursor()\n",
    "\n",
    "sql = \"\"\"select ordem, ride_date, user_gender, count(user_gender)\n",
    "from tab\n",
    "where user_gender = 'F'\n",
    "group by ride_date\n",
    "UNION\n",
    "select ordem, ride_date, user_gender, count(user_gender)\n",
    "from tab\n",
    "where user_gender = 'M'\n",
    "group by ride_date\n",
    "order by ordem\n",
    "\"\"\"\n",
    "\n",
    "cursor = conn.execute(sql)\n",
    "rows = cursor.fetchall()\n",
    "conn.close()\n",
    "#rows"
   ]
  },
  {
   "cell_type": "code",
   "execution_count": null,
   "metadata": {},
   "outputs": [],
   "source": [
    "vetor1 = []\n",
    "vetor2 = []\n",
    "const = 3\n",
    "i = 0\n",
    "j = i+1\n",
    "flag = 0 \n",
    "while(j<14):\n",
    "    if(flag == 0):\n",
    "        vetor1.append(rows[i][const] / (rows[i][const] + rows[j][const]) * 100)\n",
    "        flag = 1\n",
    "    else:\n",
    "        vetor2.append(100-vetor[i-1])\n",
    "        flag = 0\n",
    "    i += 1\n",
    "    j = i+1\n",
    "vetor.append(100-vetor[i-1])\n",
    "#vetor"
   ]
  },
  {
   "cell_type": "code",
   "execution_count": null,
   "metadata": {},
   "outputs": [],
   "source": [
    "matriz1 = [] # lista vazia\n",
    "matriz2 = [] \n",
    "flag = 0\n",
    "for i in range(14):\n",
    "   # cria a linha i\n",
    "    linha = [] # lista vazia\n",
    "    if(flag % 2 == 0):\n",
    "        linha.append(rows[i][1])\n",
    "        linha.append(\"F\")\n",
    "        linha.append(vetor[i])\n",
    "        matriz1.append(linha)\n",
    "    else:\n",
    "        linha.append(rows[i][1])\n",
    "        linha.append(\"M\")\n",
    "        linha.append(vetor[i])\n",
    "        matriz2.append(linha)\n",
    "    flag += 1\n",
    "    # coloque linha na matriz\n",
    "\n",
    "\n",
    "#matriz\n",
    "dataframe1 = pd.DataFrame(matriz1, columns = ['Dia','Sexo', 'Porcentagem']) \n",
    "dataframe2 = pd.DataFrame(matriz2, columns = ['Dia','Sexo', 'Porcentagem']) \n",
    "#dataframe"
   ]
  },
  {
   "cell_type": "code",
   "execution_count": null,
   "metadata": {},
   "outputs": [],
   "source": [
    "fig = go.Figure(go.Bar(x=dataframe2['Dia'], y=dataframe1['Porcentagem'], name='Mulher',marker_color='#EF553B'))\n",
    "fig.add_trace(go.Bar(x=dataframe2['Dia'], y=dataframe2['Porcentagem'], name='Homem',marker_color='#636EFA'))\n",
    "\n",
    "fig.update_layout(barmode='stack',yaxis=dict(range=[0,100]),title_text='Parte e todo: Dia da semana por sexo')\n",
    "fig.show()"
   ]
  },
  {
   "cell_type": "markdown",
   "metadata": {},
   "source": [
    "<p> 3) Quais os dias da semana as pessoas mais usam bicicletas?"
   ]
  },
  {
   "cell_type": "code",
   "execution_count": null,
   "metadata": {},
   "outputs": [],
   "source": [
    "conn = sqlite3.connect('bike.db')\n",
    "cursor = conn.cursor()\n",
    "\n",
    "sql = \"\"\"select ride_date, count(ride_date)\n",
    "from tab\n",
    "group by ride_date\n",
    "order by ordem\n",
    "\"\"\"\n",
    "\n",
    "cursor = conn.execute(sql)\n",
    "rows = cursor.fetchall()\n",
    "conn.close()\n",
    "#rows\n",
    "#Criando um dataframe com pandas\n",
    "\n",
    "dia = []\n",
    "ordem = []\n",
    "\n",
    "for element in rows:\n",
    "  dia.append(element[0])\n",
    "  ordem.append(element[1])\n",
    "\n",
    "dic = {\n",
    "    'Week day': dia,\n",
    "    'Count': ordem,\n",
    "}\n",
    "#dic\n",
    "#Visualização do Data Frame\n",
    "dataframe = pd.DataFrame(dic)\n",
    "#dataframe"
   ]
  },
  {
   "cell_type": "code",
   "execution_count": null,
   "metadata": {},
   "outputs": [],
   "source": [
    "#fig  =  px . bar (dataframe,  x = dataframe['Week day'] ,  y = dataframe['Count'], title = 'Bar plot: Week day vs. Count', color_discrete_sequence=['#6100A3'] ) \n",
    "#fig . show ()"
   ]
  },
  {
   "cell_type": "code",
   "execution_count": null,
   "metadata": {},
   "outputs": [],
   "source": [
    "fig  =  px . bar (dataframe,  x = dataframe['Count'] ,  y = dataframe['Week day'], color_discrete_sequence=['#6100A3'],  orientation='h' ) \n",
    "#fig . show ()"
   ]
  },
  {
   "cell_type": "code",
   "execution_count": null,
   "metadata": {},
   "outputs": [],
   "source": [
    "\n",
    "fig.update_layout(xaxis_title='Número de pessoas',yaxis_title='Dia da semana',yaxis={'categoryorder':'total ascending'})\n",
    "fig.show()"
   ]
  },
  {
   "cell_type": "markdown",
   "metadata": {},
   "source": [
    "<p> 4) Como é o tempo de duração das corridas em relação ao dia da semana?"
   ]
  },
  {
   "cell_type": "code",
   "execution_count": null,
   "metadata": {},
   "outputs": [],
   "source": [
    "conn = sqlite3.connect('bike.db')\n",
    "cursor = conn.cursor()\n",
    "\n",
    "sql = \"\"\"select ordem,ride_date, count(ride_late),new\n",
    "from tab\n",
    "where ride_late = '0'\n",
    "group by ride_date\n",
    "UNION\n",
    "select ordem,ride_date, count(ride_late), new\n",
    "from tab\n",
    "where ride_late = '1'\n",
    "group by ride_date\n",
    "order by ordem\n",
    "\"\"\"\n",
    "\n",
    "cursor = conn.execute(sql)\n",
    "rows = cursor.fetchall()\n",
    "conn.close()\n",
    "#rows"
   ]
  },
  {
   "cell_type": "code",
   "execution_count": null,
   "metadata": {},
   "outputs": [],
   "source": [
    "vetor = []\n",
    "const = 2\n",
    "i = 0\n",
    "j = i+1\n",
    "flag = 0 \n",
    "while(j<14):\n",
    "    if(flag == 0):\n",
    "        vetor.append(rows[i][const] / (rows[i][const] + rows[j][const]) * 100)\n",
    "        flag = 1\n",
    "    else:\n",
    "        vetor.append(100-vetor[i-1])\n",
    "        flag = 0\n",
    "    i += 1\n",
    "    j = i+1\n",
    "vetor.append(100-vetor[i-1])\n",
    "#vetor"
   ]
  },
  {
   "cell_type": "code",
   "execution_count": null,
   "metadata": {},
   "outputs": [],
   "source": [
    "matriz = [] # lista vazia\n",
    "flag = 0\n",
    "for i in range(14):\n",
    "   # cria a linha i\n",
    "    linha = [] # lista vazia\n",
    "    if(flag % 2 == 0):\n",
    "        linha.append(rows[i][1])\n",
    "        linha.append(\"< ou = 1hr\")\n",
    "        linha.append(vetor[i])\n",
    "    else:\n",
    "        linha.append(rows[i][1])\n",
    "        linha.append(\"> 1hr\")\n",
    "        linha.append(vetor[i])\n",
    "    matriz.append(linha)\n",
    "    flag += 1\n",
    "    # coloque linha na matriz\n",
    "\n",
    "\n",
    "#matriz\n",
    "dataframe = pd.DataFrame(matriz, columns = ['Dia','Duração', 'Porcentagem']) \n",
    "#dataframe"
   ]
  },
  {
   "cell_type": "code",
   "execution_count": null,
   "metadata": {},
   "outputs": [],
   "source": [
    "fig = px.bar(dataframe, x='Dia da semana', y='Porcentagem',color='Duração',title = 'Parte e todo: duração das corridas',color_discrete_sequence=['#CEF000', '#6100A3'])\n",
    "fig.update_layout(yaxis=dict(range=[0,100]))\n",
    "fig . show ()"
   ]
  },
  {
   "cell_type": "code",
   "execution_count": null,
   "metadata": {},
   "outputs": [],
   "source": [
    "fig = px.violin(df, x='ride_date', y='ride_duration',color_discrete_sequence=['#6100A3'])\n",
    "fig.show()"
   ]
  },
  {
   "cell_type": "code",
   "execution_count": null,
   "metadata": {},
   "outputs": [],
   "source": [
    "conn = sqlite3.connect('bike.db')\n",
    "cursor = conn.cursor()\n",
    "\n",
    "sql = \"\"\"select ordem, ride_date, ride_duration\n",
    "from tab\n",
    "where ride_duration < 100\n",
    "order by ordem\n",
    "\"\"\"\n",
    "\n",
    "cursor = conn.execute(sql)\n",
    "rows = cursor.fetchall()\n",
    "conn.close()\n",
    "#rows"
   ]
  },
  {
   "cell_type": "code",
   "execution_count": null,
   "metadata": {},
   "outputs": [],
   "source": [
    "#Criando um dataframe com pandas\n",
    "\n",
    "ordem = []\n",
    "dia = []\n",
    "duracao = []\n",
    "\n",
    "for element in rows:\n",
    "  ordem.append(element[0])\n",
    "  dia.append(element[1])\n",
    "  duracao.append(element[2])\n",
    "\n",
    "dic = {\n",
    "    'Ordem': ordem,\n",
    "    'Dia': dia,\n",
    "    'Duração':duracao,\n",
    "    \n",
    "}\n",
    "#dic\n",
    "#Visualização do Data Frame\n",
    "dataframe = pd.DataFrame(dic)\n",
    "#dataframe"
   ]
  },
  {
   "cell_type": "code",
   "execution_count": null,
   "metadata": {},
   "outputs": [],
   "source": [
    "fig = px.violin(dataframe, x='Dia', y='Duração',color_discrete_sequence=['#6100A3'])\n",
    "fig.show()"
   ]
  },
  {
   "cell_type": "code",
   "execution_count": null,
   "metadata": {},
   "outputs": [],
   "source": [
    "conn = sqlite3.connect('bike.db')\n",
    "cursor = conn.cursor()\n",
    "\n",
    "sql = \"\"\"select ordem, ride_date, ride_duration\n",
    "from tab\n",
    "where ride_duration > 100 AND ride_duration < 200\n",
    "order by ordem\n",
    "\"\"\"\n",
    "\n",
    "cursor = conn.execute(sql)\n",
    "rows = cursor.fetchall()\n",
    "conn.close()\n",
    "#rows"
   ]
  },
  {
   "cell_type": "markdown",
   "metadata": {},
   "source": [
    "<h3> Questões geográficas"
   ]
  },
  {
   "cell_type": "markdown",
   "metadata": {},
   "source": [
    "<p>1) Onde as estações estão localizadas?"
   ]
  },
  {
   "cell_type": "markdown",
   "metadata": {},
   "source": [
    "<p> Vide Power BI"
   ]
  },
  {
   "cell_type": "markdown",
   "metadata": {},
   "source": [
    "<p> 2) Quais as estações mais usadas? Para pegar a bicicleta emprestada e devolve-la respectivamente."
   ]
  },
  {
   "cell_type": "markdown",
   "metadata": {},
   "source": [
    "<p> Vide Power BI"
   ]
  },
  {
   "cell_type": "code",
   "execution_count": null,
   "metadata": {},
   "outputs": [],
   "source": [
    "conn = sqlite3.connect('bike.db')\n",
    "cursor = conn.cursor()\n",
    "\n",
    "sql = \"\"\"select id_station_start, name_station_start, count(name_station_start)\n",
    "from tab\n",
    "group by name_station_start\n",
    "order by count(name_station_start)\n",
    "\"\"\"\n",
    "\n",
    "cursor = conn.execute(sql)\n",
    "rows = cursor.fetchall()\n",
    "conn.close()\n",
    "#rows\n",
    "#Criando um dataframe com pandas\n",
    "\n",
    "identificador = []\n",
    "nome = []\n",
    "count = []\n",
    "\n",
    "for element in rows:\n",
    "  identificador.append(element[0])\n",
    "  nome.append(element[1])\n",
    "  count.append(element[2])\n",
    "\n",
    "dic = {\n",
    "    'id': identificador,\n",
    "    'Nome':nome,\n",
    "    'Count': count,\n",
    "}\n",
    "#dic\n",
    "#Visualização do Data Frame\n",
    "dataframe1 = pd.DataFrame(dic)\n",
    "#dataframe1"
   ]
  },
  {
   "cell_type": "code",
   "execution_count": null,
   "metadata": {},
   "outputs": [],
   "source": [
    "fig  =  px . bar (dataframe1,  x = dataframe1['Count'] ,  y = dataframe1['Nome'], title = 'Bar plot: Count vs. Nome', color_discrete_sequence=['#6100A3'],  orientation='h') \n",
    "fig.update_layout( yaxis={'categoryorder':'total ascending'})\n",
    "fig.show()"
   ]
  },
  {
   "cell_type": "code",
   "execution_count": null,
   "metadata": {},
   "outputs": [],
   "source": [
    "conn = sqlite3.connect('bike.db')\n",
    "cursor = conn.cursor()\n",
    "\n",
    "sql = \"\"\"select id_station_start, name_station_start, count(name_station_start)\n",
    "from tab\n",
    "group by name_station_start\n",
    "having count(name_station_start) > 11000\n",
    "order by count(name_station_start)\n",
    "\"\"\"\n",
    "\n",
    "cursor = conn.execute(sql)\n",
    "rows = cursor.fetchall()\n",
    "conn.close()\n",
    "#rows\n",
    "#Criando um dataframe com pandas\n",
    "\n",
    "identificador = []\n",
    "nome = []\n",
    "count = []\n",
    "\n",
    "for element in rows:\n",
    "  identificador.append(element[0])\n",
    "  nome.append(element[1])\n",
    "  count.append(element[2])\n",
    "\n",
    "dic = {\n",
    "    'id': identificador,\n",
    "    'Nome':nome,\n",
    "    'Count': count,\n",
    "}\n",
    "#dic\n",
    "#Visualização do Data Frame\n",
    "dataframe1 = pd.DataFrame(dic)\n",
    "#dataframe"
   ]
  },
  {
   "cell_type": "code",
   "execution_count": null,
   "metadata": {},
   "outputs": [],
   "source": [
    "fig  =  px . bar (dataframe1,  x = dataframe1['Count'] ,  y = dataframe1['Nome'], title = 'Bar plot: Count vs. Nome', color_discrete_sequence=['#6100A3'],  orientation='h') \n",
    "fig.update_layout( yaxis={'categoryorder':'total ascending'})\n",
    "fig.show()"
   ]
  },
  {
   "cell_type": "code",
   "execution_count": null,
   "metadata": {},
   "outputs": [],
   "source": [
    "conn = sqlite3.connect('bike.db')\n",
    "cursor = conn.cursor()\n",
    "\n",
    "sql = \"\"\"select id_station_end, name_station_end, count(name_station_end)\n",
    "from tab\n",
    "group by name_station_end\n",
    "order by count(name_station_end)\n",
    "\"\"\"\n",
    "cursor = conn.execute(sql)\n",
    "rows = cursor.fetchall()\n",
    "conn.close()\n",
    "#rows\n",
    "#Criando um dataframe com pandas\n",
    "\n",
    "identificador = []\n",
    "nome = []\n",
    "count = []\n",
    "\n",
    "for element in rows:\n",
    "  identificador.append(element[0])\n",
    "  nome.append(element[1])\n",
    "  count.append(element[2])\n",
    "\n",
    "dic = {\n",
    "    'id': identificador,\n",
    "    'Nome':nome,\n",
    "    'Count': count,\n",
    "}\n",
    "#dic\n",
    "#Visualização do Data Frame\n",
    "dataframe2 = pd.DataFrame(dic)\n",
    "#dataframe"
   ]
  },
  {
   "cell_type": "code",
   "execution_count": null,
   "metadata": {},
   "outputs": [],
   "source": [
    "fig  =  px . bar (dataframe2,  x = dataframe2['Count'] ,  y = dataframe2['Nome'], title = 'Bar plot: Count vs. Nome', color_discrete_sequence=['#6100A3'],  orientation='h') \n",
    "fig.update_layout( yaxis={'categoryorder':'total ascending'})\n",
    "fig.show()"
   ]
  },
  {
   "cell_type": "code",
   "execution_count": null,
   "metadata": {},
   "outputs": [],
   "source": [
    "conn = sqlite3.connect('bike.db')\n",
    "cursor = conn.cursor()\n",
    "\n",
    "sql = \"\"\"select id_station_end, name_station_end, count(name_station_end)\n",
    "from tab\n",
    "group by name_station_end\n",
    "having count(name_station_end) > 11000\n",
    "order by count(name_station_end)\n",
    "\"\"\"\n",
    "cursor = conn.execute(sql)\n",
    "rows = cursor.fetchall()\n",
    "conn.close()\n",
    "#rows\n",
    "#Criando um dataframe com pandas\n",
    "\n",
    "identificador = []\n",
    "nome = []\n",
    "count = []\n",
    "\n",
    "for element in rows:\n",
    "  identificador.append(element[0])\n",
    "  nome.append(element[1])\n",
    "  count.append(element[2])\n",
    "\n",
    "dic = {\n",
    "    'id': identificador,\n",
    "    'Nome':nome,\n",
    "    'Count': count,\n",
    "}\n",
    "#dic\n",
    "#Visualização do Data Frame\n",
    "dataframe2 = pd.DataFrame(dic)\n",
    "#dataframe"
   ]
  },
  {
   "cell_type": "code",
   "execution_count": null,
   "metadata": {},
   "outputs": [],
   "source": [
    "fig  =  px . bar (dataframe2,  x = dataframe2['Count'] ,  y = dataframe2['Nome'], title = 'Bar plot: Count vs. Nome', color_discrete_sequence=['#6100A3'],  orientation='h') \n",
    "fig.update_layout( yaxis={'categoryorder':'total ascending'})\n",
    "fig.show()"
   ]
  },
  {
   "cell_type": "code",
   "execution_count": null,
   "metadata": {},
   "outputs": [],
   "source": [
    "fig = make_subplots(rows=2, cols=1)\n",
    "\n",
    "fig.add_trace(\n",
    "    go.Bar(x = dataframe1['Count'] ,  y = dataframe1['Nome'], marker_color='#B00983', name = 'Principais estações de início', orientation='h'),\n",
    "        row=1, col=1\n",
    ")\n",
    "\n",
    "fig.add_trace(\n",
    "    go.Bar(x = dataframe2['Count'] ,  y = dataframe2['Nome'], marker_color='#6100A3', name = 'Principais estações de fim', orientation='h'),\n",
    "    row=2, col=1\n",
    ")\n",
    "\n",
    "\n",
    "fig.update_layout(height=500, width=1000,title_text='Ranking estações')\n",
    "#fig.update_xaxes(tick0=0, dtick=5000)\n",
    "fig.show()"
   ]
  },
  {
   "cell_type": "code",
   "execution_count": null,
   "metadata": {},
   "outputs": [],
   "source": [
    "conn = sqlite3.connect('bike1.db')\n",
    "cursor = conn.cursor()\n",
    "\n",
    "sql = \"\"\"select idade, count(name_station_start)\n",
    "from tab\n",
    "group by idade\n",
    "order by idade\n",
    "\"\"\"\n",
    "\n",
    "cursor = conn.execute(sql)\n",
    "rows = cursor.fetchall()\n",
    "conn.close()\n",
    "rows"
   ]
  },
  {
   "cell_type": "code",
   "execution_count": null,
   "metadata": {},
   "outputs": [],
   "source": [
    "data_matrix = [['Data de nascimento'],\n",
    "               ['2028-04-28'],\n",
    "               ['2027-04-16'],\n",
    "               ['2027-01-16'],\n",
    "               ['2026-12-03'],\n",
    "               ['2026-12-03']]\n",
    "\n",
    "fig = ff.create_table(data_matrix)\n",
    "fig.show()"
   ]
  },
  {
   "cell_type": "code",
   "execution_count": null,
   "metadata": {},
   "outputs": [],
   "source": [
    "conn = sqlite3.connect('bike1.db')\n",
    "cursor = conn.cursor()\n",
    "\n",
    "sql = \"\"\"select *\n",
    "from tab\n",
    "\"\"\"\n",
    "\n",
    "db_df = pd.read_sql_query(sql, conn)\n",
    "rows = cursor.fetchall()\n",
    "conn.close()\n",
    "db_df.to_csv('database.csv', index=False)"
   ]
  },
  {
   "cell_type": "code",
   "execution_count": null,
   "metadata": {
    "scrolled": true
   },
   "outputs": [],
   "source": [
    "conn = sqlite3.connect('bike1.db')\n",
    "cursor = conn.cursor()\n",
    "\n",
    "sql = \"\"\"select ordem,ride_date, count(user_gender)\n",
    "from tab\n",
    "where user_gender = 'M'\n",
    "group by ride_date\n",
    "UNION\n",
    "select ordem,ride_date, count(user_gender)\n",
    "from tab\n",
    "where user_gender = 'F'\n",
    "group by ride_date\n",
    "order by ordem\n",
    "\"\"\"\n",
    "\n",
    "cursor = conn.execute(sql)\n",
    "rows = cursor.fetchall()\n",
    "conn.close()\n",
    "rows"
   ]
  }
 ],
 "metadata": {
  "kernelspec": {
   "display_name": "Python 3",
   "language": "python",
   "name": "python3"
  },
  "language_info": {
   "codemirror_mode": {
    "name": "ipython",
    "version": 3
   },
   "file_extension": ".py",
   "mimetype": "text/x-python",
   "name": "python",
   "nbconvert_exporter": "python",
   "pygments_lexer": "ipython3",
   "version": "3.8.3"
  }
 },
 "nbformat": 4,
 "nbformat_minor": 4
}
